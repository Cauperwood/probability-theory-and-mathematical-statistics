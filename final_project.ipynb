{
 "cells": [
  {
   "cell_type": "code",
   "execution_count": 152,
   "metadata": {},
   "outputs": [],
   "source": [
    "import numpy as np\n",
    "import pandas as pd\n",
    "import seaborn as sns\n",
    "import matplotlib.style as style\n",
    "import matplotlib.pyplot as plt\n",
    "from scipy import stats\n",
    "from scipy.spatial.distance import euclidean\n",
    "from tqdm.notebook import tqdm, trange"
   ]
  },
  {
   "cell_type": "markdown",
   "metadata": {},
   "source": [
    "Задача проекта оценить взаимосвязь цены на золото и цены на биткоин и выявить воспринимается ли биткоин инвесторами в качестве \"тихой гавани\" во время кризиса наравне с золотом. Исторические данные по активам для данного проекта взяты за последний год, т.к. \"коронакризис\" является первым кризисом в истории биткоина.\n",
    "\n",
    "\n",
    "1) Произвести расчет корреляции.\n",
    "\n",
    "2) Построить модель линейной регрессии \n",
    "\n",
    "3) Оценить статистическую значимость уравнения линейной регрессии с помощью F-критерия Фишера.\n"
   ]
  },
  {
   "cell_type": "code",
   "execution_count": 6,
   "metadata": {},
   "outputs": [],
   "source": [
    "df1 = pd.read_csv('gold.csv')\n",
    "df2 = pd.read_csv('BTC.csv')"
   ]
  },
  {
   "cell_type": "markdown",
   "metadata": {},
   "source": [
    "Так как торги по BTC идут каждый день, включая выходные, а золото торгуется на бирже только по будним дням, мы наблюдаем различие в количестве данных за один и тот же период. При слиянии датасетов это нужно учитывать, в данном случае убираем данные по торгам в выходные дни. "
   ]
  },
  {
   "cell_type": "code",
   "execution_count": 9,
   "metadata": {},
   "outputs": [
    {
     "name": "stdout",
     "output_type": "stream",
     "text": [
      "<class 'pandas.core.frame.DataFrame'>\n",
      "RangeIndex: 2242 entries, 0 to 2241\n",
      "Data columns (total 7 columns):\n",
      " #   Column  Non-Null Count  Dtype \n",
      "---  ------  --------------  ----- \n",
      " 0   Дата    2242 non-null   object\n",
      " 1   Цена    2242 non-null   object\n",
      " 2   Откр.   2242 non-null   object\n",
      " 3   Макс.   2242 non-null   object\n",
      " 4   Мин.    2242 non-null   object\n",
      " 5   Объём   2242 non-null   object\n",
      " 6   Изм. %  2242 non-null   object\n",
      "dtypes: object(7)\n",
      "memory usage: 122.7+ KB\n"
     ]
    }
   ],
   "source": [
    "df1.info()"
   ]
  },
  {
   "cell_type": "code",
   "execution_count": 10,
   "metadata": {},
   "outputs": [
    {
     "name": "stdout",
     "output_type": "stream",
     "text": [
      "<class 'pandas.core.frame.DataFrame'>\n",
      "RangeIndex: 3121 entries, 0 to 3120\n",
      "Data columns (total 7 columns):\n",
      " #   Column  Non-Null Count  Dtype \n",
      "---  ------  --------------  ----- \n",
      " 0   Дата    3121 non-null   object\n",
      " 1   Цена    3121 non-null   object\n",
      " 2   Откр.   3121 non-null   object\n",
      " 3   Макс.   3121 non-null   object\n",
      " 4   Мин.    3121 non-null   object\n",
      " 5   Объём   3121 non-null   object\n",
      " 6   Изм. %  3121 non-null   object\n",
      "dtypes: object(7)\n",
      "memory usage: 170.8+ KB\n"
     ]
    }
   ],
   "source": [
    "df2.info()"
   ]
  },
  {
   "cell_type": "code",
   "execution_count": 76,
   "metadata": {},
   "outputs": [],
   "source": [
    "df = pd.merge(df1,df2,on='Дата')"
   ]
  },
  {
   "cell_type": "code",
   "execution_count": 77,
   "metadata": {},
   "outputs": [
    {
     "data": {
      "text/html": [
       "<div>\n",
       "<style scoped>\n",
       "    .dataframe tbody tr th:only-of-type {\n",
       "        vertical-align: middle;\n",
       "    }\n",
       "\n",
       "    .dataframe tbody tr th {\n",
       "        vertical-align: top;\n",
       "    }\n",
       "\n",
       "    .dataframe thead th {\n",
       "        text-align: right;\n",
       "    }\n",
       "</style>\n",
       "<table border=\"1\" class=\"dataframe\">\n",
       "  <thead>\n",
       "    <tr style=\"text-align: right;\">\n",
       "      <th></th>\n",
       "      <th>Дата</th>\n",
       "      <th>Цена_x</th>\n",
       "      <th>Откр._x</th>\n",
       "      <th>Макс._x</th>\n",
       "      <th>Мин._x</th>\n",
       "      <th>Объём_x</th>\n",
       "      <th>Изм. %_x</th>\n",
       "      <th>Цена_y</th>\n",
       "      <th>Откр._y</th>\n",
       "      <th>Макс._y</th>\n",
       "      <th>Мин._y</th>\n",
       "      <th>Объём_y</th>\n",
       "      <th>Изм. %_y</th>\n",
       "    </tr>\n",
       "  </thead>\n",
       "  <tbody>\n",
       "    <tr>\n",
       "      <th>0</th>\n",
       "      <td>21.08.2020</td>\n",
       "      <td>1.947,00</td>\n",
       "      <td>1.955,60</td>\n",
       "      <td>1.963,10</td>\n",
       "      <td>1.916,60</td>\n",
       "      <td>-</td>\n",
       "      <td>0,03%</td>\n",
       "      <td>11.531,0</td>\n",
       "      <td>11.884,0</td>\n",
       "      <td>11.889,0</td>\n",
       "      <td>11.531,0</td>\n",
       "      <td>6,10K</td>\n",
       "      <td>-2,97%</td>\n",
       "    </tr>\n",
       "    <tr>\n",
       "      <th>1</th>\n",
       "      <td>20.08.2020</td>\n",
       "      <td>1.946,50</td>\n",
       "      <td>1.934,40</td>\n",
       "      <td>1.963,10</td>\n",
       "      <td>1.928,90</td>\n",
       "      <td>383,34K</td>\n",
       "      <td>-1,21%</td>\n",
       "      <td>11.884,0</td>\n",
       "      <td>11.778,0</td>\n",
       "      <td>11.900,0</td>\n",
       "      <td>11.719,0</td>\n",
       "      <td>2,73K</td>\n",
       "      <td>0,90%</td>\n",
       "    </tr>\n",
       "    <tr>\n",
       "      <th>2</th>\n",
       "      <td>19.08.2020</td>\n",
       "      <td>1.970,30</td>\n",
       "      <td>2.010,50</td>\n",
       "      <td>2.015,60</td>\n",
       "      <td>1.930,50</td>\n",
       "      <td>443,26K</td>\n",
       "      <td>-2,13%</td>\n",
       "      <td>11.778,0</td>\n",
       "      <td>11.961,8</td>\n",
       "      <td>12.004,0</td>\n",
       "      <td>11.694,6</td>\n",
       "      <td>6,29K</td>\n",
       "      <td>-1,54%</td>\n",
       "    </tr>\n",
       "    <tr>\n",
       "      <th>3</th>\n",
       "      <td>18.08.2020</td>\n",
       "      <td>2.013,10</td>\n",
       "      <td>1.993,60</td>\n",
       "      <td>2.024,60</td>\n",
       "      <td>1.985,20</td>\n",
       "      <td>361,48K</td>\n",
       "      <td>0,72%</td>\n",
       "      <td>11.961,8</td>\n",
       "      <td>12.300,0</td>\n",
       "      <td>12.359,0</td>\n",
       "      <td>11.927,2</td>\n",
       "      <td>7,18K</td>\n",
       "      <td>-2,75%</td>\n",
       "    </tr>\n",
       "    <tr>\n",
       "      <th>4</th>\n",
       "      <td>17.08.2020</td>\n",
       "      <td>1.998,70</td>\n",
       "      <td>1.956,40</td>\n",
       "      <td>2.000,80</td>\n",
       "      <td>1.939,10</td>\n",
       "      <td>289,44K</td>\n",
       "      <td>2,51%</td>\n",
       "      <td>12.300,0</td>\n",
       "      <td>11.925,0</td>\n",
       "      <td>12.415,0</td>\n",
       "      <td>11.826,1</td>\n",
       "      <td>10,12K</td>\n",
       "      <td>3,14%</td>\n",
       "    </tr>\n",
       "  </tbody>\n",
       "</table>\n",
       "</div>"
      ],
      "text/plain": [
       "         Дата    Цена_x   Откр._x   Макс._x    Мин._x  Объём_x Изм. %_x  \\\n",
       "0  21.08.2020  1.947,00  1.955,60  1.963,10  1.916,60        -    0,03%   \n",
       "1  20.08.2020  1.946,50  1.934,40  1.963,10  1.928,90  383,34K   -1,21%   \n",
       "2  19.08.2020  1.970,30  2.010,50  2.015,60  1.930,50  443,26K   -2,13%   \n",
       "3  18.08.2020  2.013,10  1.993,60  2.024,60  1.985,20  361,48K    0,72%   \n",
       "4  17.08.2020  1.998,70  1.956,40  2.000,80  1.939,10  289,44K    2,51%   \n",
       "\n",
       "     Цена_y   Откр._y   Макс._y    Мин._y Объём_y Изм. %_y  \n",
       "0  11.531,0  11.884,0  11.889,0  11.531,0   6,10K   -2,97%  \n",
       "1  11.884,0  11.778,0  11.900,0  11.719,0   2,73K    0,90%  \n",
       "2  11.778,0  11.961,8  12.004,0  11.694,6   6,29K   -1,54%  \n",
       "3  11.961,8  12.300,0  12.359,0  11.927,2   7,18K   -2,75%  \n",
       "4  12.300,0  11.925,0  12.415,0  11.826,1  10,12K    3,14%  "
      ]
     },
     "execution_count": 77,
     "metadata": {},
     "output_type": "execute_result"
    }
   ],
   "source": [
    "df.head()"
   ]
  },
  {
   "cell_type": "code",
   "execution_count": 27,
   "metadata": {},
   "outputs": [
    {
     "name": "stdout",
     "output_type": "stream",
     "text": [
      "<class 'pandas.core.frame.DataFrame'>\n",
      "Int64Index: 2241 entries, 0 to 2240\n",
      "Data columns (total 13 columns):\n",
      " #   Column    Non-Null Count  Dtype \n",
      "---  ------    --------------  ----- \n",
      " 0   Дата      2241 non-null   object\n",
      " 1   Цена_x    2241 non-null   object\n",
      " 2   Откр._x   2241 non-null   object\n",
      " 3   Макс._x   2241 non-null   object\n",
      " 4   Мин._x    2241 non-null   object\n",
      " 5   Объём_x   2241 non-null   object\n",
      " 6   Изм. %_x  2241 non-null   object\n",
      " 7   Цена_y    2241 non-null   object\n",
      " 8   Откр._y   2241 non-null   object\n",
      " 9   Макс._y   2241 non-null   object\n",
      " 10  Мин._y    2241 non-null   object\n",
      " 11  Объём_y   2241 non-null   object\n",
      " 12  Изм. %_y  2241 non-null   object\n",
      "dtypes: object(13)\n",
      "memory usage: 245.1+ KB\n"
     ]
    }
   ],
   "source": [
    "df.info()"
   ]
  },
  {
   "cell_type": "code",
   "execution_count": null,
   "metadata": {},
   "outputs": [],
   "source": [
    "df['Цена_x'] = df['Цена_x'].str.replace('.','')\n",
    "df['Цена_y'] = df['Цена_y'].str.replace('.','')"
   ]
  },
  {
   "cell_type": "code",
   "execution_count": null,
   "metadata": {},
   "outputs": [],
   "source": [
    "df['Цена_x'] = df['Цена_x'].str.replace(',','.')\n",
    "df['Цена_y'] = df['Цена_y'].str.replace(',','.')"
   ]
  },
  {
   "cell_type": "code",
   "execution_count": null,
   "metadata": {},
   "outputs": [],
   "source": [
    "df['Цена_x'] = df['Цена_x'].astype(float)\n",
    "df['Цена_y'] = df['Цена_y'].astype(float)"
   ]
  },
  {
   "cell_type": "markdown",
   "metadata": {},
   "source": [
    "Т.к. нас интересуют данные по активам за 2019 и 2020 годы, удалим более ранние данные. Для этого определяем индекс строки соответствующей введенной дате, а затем берем данные для датасета в соответствии с полученным индексом.  "
   ]
  },
  {
   "cell_type": "code",
   "execution_count": null,
   "metadata": {},
   "outputs": [],
   "source": [
    "df.loc[(df['Дата'] == '01.01.2019')]"
   ]
  },
  {
   "cell_type": "code",
   "execution_count": null,
   "metadata": {},
   "outputs": [],
   "source": [
    "df = df.head(435)\n",
    "df.tail()"
   ]
  },
  {
   "cell_type": "markdown",
   "metadata": {},
   "source": [
    "Расчет коэффициента корреляции\n",
    "\n",
    "__Корреляция__ — математический показатель, по которому можно судить, есть ли статистическая взаимосвязь между двумя и более случайными величинами.\n",
    "\n",
    "__Коэффициент корреляции__ принимает значения из отрезка $[-1, 1]$.\n",
    "\n",
    "Если коэффициент корреляции близок к $1$, то между величинами наблюдается прямая связь: увеличение одной величины сопровождается увеличением другой, а уменьшение одной — уменьшением другой.\n",
    "\n",
    "Если же коэффициент корреляции близок к $-1$, то между величинами есть обратная корреляционная связь: увеличение одной величины сопровождается уменьшением другой и наоборот.\n",
    "\n",
    "Коэффициент корреляции, равный $0$, говорит о том, что между величинами нет связи, то есть величины изменяются независимо друг от друга."
   ]
  },
  {
   "cell_type": "code",
   "execution_count": 116,
   "metadata": {},
   "outputs": [
    {
     "data": {
      "text/html": [
       "<div>\n",
       "<style scoped>\n",
       "    .dataframe tbody tr th:only-of-type {\n",
       "        vertical-align: middle;\n",
       "    }\n",
       "\n",
       "    .dataframe tbody tr th {\n",
       "        vertical-align: top;\n",
       "    }\n",
       "\n",
       "    .dataframe thead th {\n",
       "        text-align: right;\n",
       "    }\n",
       "</style>\n",
       "<table border=\"1\" class=\"dataframe\">\n",
       "  <thead>\n",
       "    <tr style=\"text-align: right;\">\n",
       "      <th></th>\n",
       "      <th>Цена_x</th>\n",
       "      <th>Цена_y</th>\n",
       "    </tr>\n",
       "  </thead>\n",
       "  <tbody>\n",
       "    <tr>\n",
       "      <th>Цена_x</th>\n",
       "      <td>1.000000</td>\n",
       "      <td>0.591719</td>\n",
       "    </tr>\n",
       "    <tr>\n",
       "      <th>Цена_y</th>\n",
       "      <td>0.591719</td>\n",
       "      <td>1.000000</td>\n",
       "    </tr>\n",
       "  </tbody>\n",
       "</table>\n",
       "</div>"
      ],
      "text/plain": [
       "          Цена_x    Цена_y\n",
       "Цена_x  1.000000  0.591719\n",
       "Цена_y  0.591719  1.000000"
      ]
     },
     "execution_count": 116,
     "metadata": {},
     "output_type": "execute_result"
    }
   ],
   "source": [
    "df[['Цена_x', 'Цена_y']].corr()"
   ]
  },
  {
   "cell_type": "markdown",
   "metadata": {},
   "source": [
    "В результате получается матрица корреляций. Мы видим, что корреляция достаточно высока.\n",
    "\n",
    "Посчитаем ковариацию. \n",
    "\n",
    "__Ковариация__ — мера линейной зависимости случайных величин. Её формула похожа на формулу дисперсии (_variance_). \n",
    "\n",
    "Формула ковариации случайных величин $X$ и $Y$:\n",
    "$$\\operatorname{cov}(X, Y) = M\\left( (X - M(X)) (Y - M(Y)) \\right).$$\n",
    "\n",
    "Эту формулу можно раскрыть и упростить до\n",
    "$$\\operatorname{cov}(X, Y) = M(XY) - M(X) M(Y).$$"
   ]
  },
  {
   "cell_type": "code",
   "execution_count": 117,
   "metadata": {},
   "outputs": [
    {
     "data": {
      "text/plain": [
       "248093.97550122868"
      ]
     },
     "execution_count": 117,
     "metadata": {},
     "output_type": "execute_result"
    }
   ],
   "source": [
    "X = df['Цена_x']\n",
    "Y = df['Цена_y']\n",
    "\n",
    "MX = X.mean()\n",
    "MY = Y.mean()\n",
    "\n",
    "cov = ((X - MX) * (Y - MY)).mean()\n",
    "cov"
   ]
  },
  {
   "cell_type": "markdown",
   "metadata": {},
   "source": [
    "проверим себя с помощь библиотеки numpy:"
   ]
  },
  {
   "cell_type": "code",
   "execution_count": 153,
   "metadata": {},
   "outputs": [
    {
     "data": {
      "text/plain": [
       "array([[  31291.1674634 ,  248665.62060607],\n",
       "       [ 248665.62060607, 5643887.97680947]])"
      ]
     },
     "execution_count": 153,
     "metadata": {},
     "output_type": "execute_result"
    }
   ],
   "source": [
    "cov = np.cov(X, Y)\n",
    "cov"
   ]
  },
  {
   "cell_type": "markdown",
   "metadata": {},
   "source": [
    "Эта функция возвращает не значение ковариации, а т.н. __матрицу ковариаций__. В ней по диагонали стоят вариации (т.е. дисперсии) каждой из выборок, а вне диагонали — попарные ковариации."
   ]
  },
  {
   "cell_type": "markdown",
   "metadata": {},
   "source": [
    "Исследуем зависимость цены биткоина от цены золота с помощью линейной регрессии \n",
    "\n",
    "__Линейная регрессия__ — используемая в статистике регрессионная модель зависимости _объясняемой_ переменной $y$ от другой или нескольких других переменных (_факторов_) $x$ с линейной функцией зависимости:\n",
    "$$y = b_0 + b_1 x_1 + \\dots + b_k x_k.$$"
   ]
  },
  {
   "cell_type": "markdown",
   "metadata": {},
   "source": [
    "найдем коэффициенты линейной регресии"
   ]
  },
  {
   "cell_type": "code",
   "execution_count": 135,
   "metadata": {},
   "outputs": [
    {
     "data": {
      "text/plain": [
       "7.94683103137447"
      ]
     },
     "execution_count": 135,
     "metadata": {},
     "output_type": "execute_result"
    }
   ],
   "source": [
    "b1 = np.cov(X, Y, ddof=1)[0, 1] / np.var(X, ddof=1)\n",
    "b1"
   ]
  },
  {
   "cell_type": "code",
   "execution_count": 136,
   "metadata": {},
   "outputs": [
    {
     "data": {
      "text/plain": [
       "-4304.165468805605"
      ]
     },
     "execution_count": 136,
     "metadata": {},
     "output_type": "execute_result"
    }
   ],
   "source": [
    "b0 = Y.mean() - b1 * X.mean()\n",
    "b0"
   ]
  },
  {
   "cell_type": "code",
   "execution_count": 157,
   "metadata": {},
   "outputs": [
    {
     "data": {
      "image/png": "[encoded data removed]",
      "text/plain": [
       "<Figure size 432x288 with 1 Axes>"
      ]
     },
     "metadata": {
      "needs_background": "light"
     },
     "output_type": "display_data"
    }
   ],
   "source": [
    "fig, (ax) = plt.subplots(ncols=1)\n",
    "ox = X\n",
    "oy = b0 + b1 * ox\n",
    "\n",
    "ax.scatter(X, Y)\n",
    "ax.plot(ox, oy, color='red', alpha=0.5)\n",
    "ax.set_title('Модель линейной регрессии')\n",
    "\n",
    "plt.xlabel('GOLD')\n",
    "plt.ylabel('BTC');"
   ]
  },
  {
   "cell_type": "markdown",
   "metadata": {},
   "source": [
    "Посчитаем коэффициент детерминации"
   ]
  },
  {
   "cell_type": "code",
   "execution_count": 138,
   "metadata": {},
   "outputs": [
    {
     "name": "stdout",
     "output_type": "stream",
     "text": [
      "real: 0    11531.0\n",
      "1    11884.0\n",
      "2    11778.0\n",
      "3    11961.8\n",
      "4    12300.0\n",
      "Name: Цена_y, dtype: float64\n",
      "pred: 0    11168.314549\n",
      "1    11164.341134\n",
      "2    11353.475712\n",
      "3    11693.600080\n",
      "4    11579.165714\n",
      "Name: Цена_x, dtype: float64\n"
     ]
    }
   ],
   "source": [
    "z1 = b0 + b1 * X\n",
    "\n",
    "print(f'real: {Y[:5]}')\n",
    "print(f'pred: {z1[:5]}')"
   ]
  },
  {
   "cell_type": "code",
   "execution_count": 139,
   "metadata": {},
   "outputs": [
    {
     "data": {
      "text/plain": [
       "0.3501316252888165"
      ]
     },
     "execution_count": 139,
     "metadata": {},
     "output_type": "execute_result"
    }
   ],
   "source": [
    "R1 = 1 - (z1 - Y).var() / Y.var()\n",
    "R1"
   ]
  },
  {
   "cell_type": "markdown",
   "metadata": {},
   "source": [
    "Коэффициент детерминации, равный $0.35$, означает, что $35 \\%$ дисперсии переменной $y$ _учитывается_ или _объясняется_ моделью. Оставшиеся $65 \\%$ обусловлены какими-то ещё факторами, которые модель не учла."
   ]
  },
  {
   "cell_type": "code",
   "execution_count": 151,
   "metadata": {},
   "outputs": [
    {
     "data": {
      "image/png": "[encoded data removed]",
      "text/plain": [
       "<Figure size 432x288 with 1 Axes>"
      ]
     },
     "metadata": {
      "needs_background": "light"
     },
     "output_type": "display_data"
    }
   ],
   "source": [
    "fig, (ax) = plt.subplots(ncols=1)\n",
    "ax.scatter(X, Y)\n",
    "ax.plot(X, b0 + b1 * X, color='red', alpha=0.5)\n",
    "ax.set_title(f'Коэффициент детерминации: {round(np.corrcoef(X, Y)[0, 1] ** 2, 2)}')\n",
    "\n",
    "plt.show()"
   ]
  },
  {
   "cell_type": "markdown",
   "metadata": {},
   "source": [
    "Оценка значимости уравнения линейной регрессии\n",
    "\n",
    "Оценить статистическую значимость уравнения линейной регрессии в целом можно с помощью __F-критерия Фишера__. Проверяется нулевая гипотеза о том, что все коэффициенты при факторах у регрессионной модели равны нулю (т.е. модель представляет из себя горизонтальную плоскость.)\n",
    "\n",
    "Используемая здесь статистика:\n",
    "$$F = \\dfrac{R^2 / k}{(1 - R^2) / (n - k - 1)},$$\n",
    "где $R^2$ — коэффициент детерминации, $n$ — число наблюдений, $k$ — число факторов. В литературе часто используются обозначения $k_1 = k$, $k_2 = n - k - 1$ (иногда вместо $k_1$, $k_2$ пишут также $f_1$, $f_2$).\n",
    "\n",
    "Данную статистику можно понимать как отношение объяснённой дисперсии к необъяснённой.\n",
    "\n",
    "Критическое значение $F_{сrit} = F(k_1, k_2)$ можно найти по таблице (например, по [такой](https://www.chem-astu.ru/science/reference/F-statistic.html)) или с помощью функции `scipy.stats.f.ppf`.\n",
    "\n",
    "Если $F > F_{crit}$, то нулевая гипотеза отвергается и уравнение регрессии признаётся статистически значимым."
   ]
  },
  {
   "cell_type": "code",
   "execution_count": 143,
   "metadata": {},
   "outputs": [
    {
     "data": {
      "text/plain": [
       "233.28876992581024"
      ]
     },
     "execution_count": 143,
     "metadata": {},
     "output_type": "execute_result"
    }
   ],
   "source": [
    "k1 = 1\n",
    "k2 = len(X) - k1 - 1\n",
    "\n",
    "F1 = (R1 / k1) / ((1 - R1) / k2)\n",
    "F1"
   ]
  },
  {
   "cell_type": "code",
   "execution_count": 146,
   "metadata": {},
   "outputs": [
    {
     "data": {
      "text/plain": [
       "3.863024193455905"
      ]
     },
     "execution_count": 146,
     "metadata": {},
     "output_type": "execute_result"
    }
   ],
   "source": [
    "alpha = 0.05\n",
    "\n",
    "F_crit = stats.f.ppf(1 - alpha, k1, k2)\n",
    "F_crit"
   ]
  },
  {
   "cell_type": "markdown",
   "metadata": {},
   "source": [
    "Имеем $F > F_{crit}$, поэтому уравнение регрессии статистически значимо."
   ]
  },
  {
   "cell_type": "markdown",
   "metadata": {},
   "source": [
    "Вывод: между котировками цен на оба, рассмотренных, актива имеется статистически значимая взаимосвязь.  "
   ]
  },
  {
   "cell_type": "code",
   "execution_count": null,
   "metadata": {},
   "outputs": [],
   "source": []
  }
 ],
 "metadata": {
  "kernelspec": {
   "display_name": "Python 3",
   "language": "python",
   "name": "python3"
  },
  "language_info": {
   "codemirror_mode": {
    "name": "ipython",
    "version": 3
   },
   "file_extension": ".py",
   "mimetype": "text/x-python",
   "name": "python",
   "nbconvert_exporter": "python",
   "pygments_lexer": "ipython3",
   "version": "3.7.6"
  }
 },
 "nbformat": 4,
 "nbformat_minor": 4
}
