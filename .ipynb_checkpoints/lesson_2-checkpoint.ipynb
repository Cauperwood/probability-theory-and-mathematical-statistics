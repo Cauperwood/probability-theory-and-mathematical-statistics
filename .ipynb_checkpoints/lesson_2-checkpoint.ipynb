{
 "cells": [
  {
   "cell_type": "markdown",
   "metadata": {},
   "source": [
    "1. Вероятность того, что стрелок попадет в мишень, выстрелив один раз, равна 0.8. Стрелок выстрелил 100 раз. Найдите вероятность того, что стрелок попадет в цель ровно 85 раз."
   ]
  },
  {
   "cell_type": "code",
   "execution_count": 7,
   "metadata": {},
   "outputs": [
    {
     "data": {
      "text/plain": [
       "0.048061793700746355"
      ]
     },
     "execution_count": 7,
     "metadata": {},
     "output_type": "execute_result"
    }
   ],
   "source": [
    "import numpy as np\n",
    "\n",
    "n = 100\n",
    "k = 85\n",
    "p = 0.8\n",
    "q = 1 - p\n",
    "\n",
    "P = np.math.factorial(n)/(np.math.factorial(k)*np.math.factorial(n-k)) * p**k * q**(n-k) \n",
    "P"
   ]
  },
  {
   "cell_type": "markdown",
   "metadata": {},
   "source": [
    "2. Вероятность того, что лампочка перегорит в течение первого дня эксплуатации, равна 0.0004. В жилом комплексе после ремонта в один день включили 5000 новых лампочек. Какова вероятность, что ни одна из них не перегорит в первый день? Какова вероятность, что перегорят ровно две?"
   ]
  },
  {
   "cell_type": "code",
   "execution_count": 17,
   "metadata": {},
   "outputs": [
    {
     "data": {
      "text/plain": [
       "(0.1353352832366127, 0.2706705664732254)"
      ]
     },
     "execution_count": 17,
     "metadata": {},
     "output_type": "execute_result"
    }
   ],
   "source": [
    "p = 0.0004\n",
    "n = 5000\n",
    "m = p*n\n",
    "k1 = 0\n",
    "k2 = 2\n",
    "Pk1 = (m**k1/np.math.factorial(k1)) * np.exp(-m) \n",
    "Pk2 = (m**k2/np.math.factorial(k2)) * np.exp(-m)\n",
    "Pk1, Pk2\n"
   ]
  },
  {
   "cell_type": "markdown",
   "metadata": {},
   "source": [
    "3. Монету подбросили 144 раза. Какова вероятность, что орел выпадет ровно 70 раз?"
   ]
  },
  {
   "cell_type": "code",
   "execution_count": 19,
   "metadata": {},
   "outputs": [
    {
     "data": {
      "text/plain": [
       "0.06281178035144776"
      ]
     },
     "execution_count": 19,
     "metadata": {},
     "output_type": "execute_result"
    }
   ],
   "source": [
    "n = 144\n",
    "k = 70\n",
    "p = 0.5\n",
    "q = p\n",
    "Pk = (np.math.factorial(n) / (np.math.factorial(k) * np.math.factorial(n - k))) * p**n\n",
    "Pk"
   ]
  },
  {
   "cell_type": "markdown",
   "metadata": {},
   "source": [
    "4. В первом ящике находится 10 мячей, из которых 7 - белые. Во втором ящике - 11 мячей, из которых 9 белых. Из каждого ящика вытаскивают случайным образом по два мяча. Какова вероятность того, что все мячи белые? Какова вероятность того, что ровно два мяча белые? Какова вероятность того, что хотя бы один мяч белый?\n",
    "\n",
    "разобъем 2-й вопрос на 3 возможных исхода:\n",
    "1) из первого ящика не достали не одного белого, а из второго достали 2 белых шара;\n",
    "2) из второго ящика не достали не одного белого, а из первого достали 2 белых шара;\n",
    "3) из первого и из второго достали по одному белому мячу;"
   ]
  },
  {
   "cell_type": "code",
   "execution_count": 28,
   "metadata": {},
   "outputs": [
    {
     "data": {
      "text/plain": [
       "(0.3054545454545454,\n",
       " [0.04363636363636364, 0.012121212121212123, 0.5727272727272728],\n",
       " 0.9987878787878788)"
      ]
     },
     "execution_count": 28,
     "metadata": {},
     "output_type": "execute_result"
    }
   ],
   "source": [
    "n1 = 10\n",
    "n2 = 11\n",
    "wb1 = 7\n",
    "wb2 = 9\n",
    "Pwb4 = (wb1/n1) * ((wb1-1)/(n1-1)) * (wb2/n2) * ((wb2-1)/(n2-1))\n",
    "Pwb2 = [(((n1-wb1)/n1) * ((n1-wb1-1)/(n1-1))* ((wb2/n2) * ((wb2-1)/(n2-1)))),(((n2-wb2)/n2) * ((n2-wb2-1)/(n2-1)) * ((wb1-1)/(n1-1))),((wb1/n1)*(wb2/n2))]\n",
    "Pwb1 = 1 - (((n1-wb1)/n1) * ((n1-wb1-1)/(n1-1)) * ((n2-wb2)/n2) * ((n2-wb2-1)/(n2-1)))\n",
    "Pwb4, Pwb2, Pwb1"
   ]
  },
  {
   "cell_type": "code",
   "execution_count": null,
   "metadata": {},
   "outputs": [],
   "source": []
  }
 ],
 "metadata": {
  "kernelspec": {
   "display_name": "Python 3",
   "language": "python",
   "name": "python3"
  },
  "language_info": {
   "codemirror_mode": {
    "name": "ipython",
    "version": 3
   },
   "file_extension": ".py",
   "mimetype": "text/x-python",
   "name": "python",
   "nbconvert_exporter": "python",
   "pygments_lexer": "ipython3",
   "version": "3.7.6"
  }
 },
 "nbformat": 4,
 "nbformat_minor": 4
}
