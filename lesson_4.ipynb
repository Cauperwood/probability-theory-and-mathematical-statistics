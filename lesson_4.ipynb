{
 "cells": [
  {
   "cell_type": "markdown",
   "metadata": {},
   "source": [
    "Задача 1\n",
    "\n",
    "О непрерывной равномерно распределённой случайной величине B известно, что её дисперсия равна 0.2. Можно ли найти правую границу величины B и её среднее значение зная, что левая граница равна 0.5? Если да, найдите их."
   ]
  },
  {
   "cell_type": "code",
   "execution_count": 9,
   "metadata": {},
   "outputs": [],
   "source": [
    "from IPython.display import Latex, Math\n",
    "import scipy.stats as sps\n",
    "import numpy as np"
   ]
  },
  {
   "cell_type": "markdown",
   "metadata": {},
   "source": [
    "формула для расчета дисперсии при равномерном распределении:\n",
    "\n",
    "$$D(X)=\\frac{(b-a)^2}{12}$$"
   ]
  },
  {
   "cell_type": "markdown",
   "metadata": {},
   "source": [
    "соответственно:\n",
    "\n",
    "$$\\frac{(b-0,5)^2}{12}=0,2$$\n",
    "\n",
    "следовательно:\n",
    "\n",
    "$$b-0,5=\\sqrt{2,4}$$\n",
    "$$b\\approx2,05$$"
   ]
  },
  {
   "cell_type": "markdown",
   "metadata": {},
   "source": [
    "Задача 2\n",
    "\n",
    "Коробки с шоколадом упаковываются автоматически. Их средняя масса равна 1.06 кг. Известно, что 5% коробок имеют массу, меньшую 1 кг. Найдите: а) среднее квадратическое отклонение массы коробки, б) процент коробок, имеющих массу больше 1.1 кг.\n",
    "Подсказка. Найдите такое значение scale, для которого значение cdf(x=1, loc=1.06, scale=scale) близко к 0.05. Точности 0.0001 будет достаточно."
   ]
  },
  {
   "cell_type": "markdown",
   "metadata": {},
   "source": [
    "a)\n",
    "$$P(-\\infty < x < 1) = Ф(\\frac{1 -1.06}{\\sigma}) - Ф(\\frac{-\\infty -1.06}{\\sigma}) = 0.05$$\n",
    "$$Ф(\\frac{-1.06}{\\sigma}) - Ф(-\\infty) = 0.05$$\n",
    "$$-Ф(\\frac{-1.06}{\\sigma}) + 0.5 = 0.05$$\n",
    "$$-Ф(\\frac{-1.06}{\\sigma}) + 0.5 = 0.05$$\n",
    "$$Ф(\\frac{0.06}{\\sigma}) = 0.45$$\n",
    "$$\\frac{0.06}{\\sigma} = 1.645$$\n",
    "$$\\sigma \\approx 0.0365$$\n",
    "b)\n",
    "$$P(1.1 < x < \\infty) = Ф(\\frac{-\\infty - 1.06}{\\sigma}) - Ф(\\frac{1.1 - 1.06}{\\sigma}) = 0.05$$\n",
    "$$Ф(\\infty) - Ф(\\frac{0.04}{0.0365}) = 0.05$$\n",
    "$$0.5 - Ф(1.0959) = 0.05$$\n",
    "$$0.5 - 0.36214 = 0.13786$$"
   ]
  },
  {
   "cell_type": "markdown",
   "metadata": {},
   "source": [
    "Задача 3\n",
    "\n",
    "Коробка содержит 30 конфет. Известно, что масса каждой конфеты распределена равномерно в промежутке от 12 до 14 граммов. Используя центральную предельную теорему, найти вероятность, что масса всей коробки будет: а) меньше 390 граммов, б) больше 395 граммов, в) от 380 до 400 граммов.\n",
    "Массой самой коробки можно пренебречь."
   ]
  },
  {
   "cell_type": "code",
   "execution_count": 26,
   "metadata": {},
   "outputs": [
    {
     "data": {
      "text/plain": [
       "(0.5, 0.583333333333333, 0.3333333333333339)"
      ]
     },
     "execution_count": 26,
     "metadata": {},
     "output_type": "execute_result"
    }
   ],
   "source": [
    "N = 30\n",
    "a = 12\n",
    "b = 14\n",
    "m1 = 390/N\n",
    "m2 = 395/N\n",
    "m3 = 380/N\n",
    "m4 = 400/N\n",
    "P1 = (m1-a)/(b-a)\n",
    "P2 = (m2-a)/(b-a)\n",
    "P3 = (m4-m3)/(b-a)\n",
    "P1,P2,P3\n",
    "\n"
   ]
  }
 ],
 "metadata": {
  "kernelspec": {
   "display_name": "Python 3",
   "language": "python",
   "name": "python3"
  },
  "language_info": {
   "codemirror_mode": {
    "name": "ipython",
    "version": 3
   },
   "file_extension": ".py",
   "mimetype": "text/x-python",
   "name": "python",
   "nbconvert_exporter": "python",
   "pygments_lexer": "ipython3",
   "version": "3.7.6"
  }
 },
 "nbformat": 4,
 "nbformat_minor": 4
}
