{
 "cells": [
  {
   "cell_type": "code",
   "execution_count": 1,
   "metadata": {},
   "outputs": [],
   "source": [
    "import numpy as np\n",
    "import pandas as pd\n",
    "from matplotlib import pyplot as plt\n",
    "from mpl_toolkits.mplot3d import Axes3D\n",
    "from scipy import stats\n",
    "\n",
    "plt.style.use('seaborn-whitegrid')"
   ]
  },
  {
   "cell_type": "markdown",
   "metadata": {},
   "source": [
    "Задача 1\n",
    "\n",
    "Объясняемая переменная y зависит от двух категориальных факторов A и B, причём фактор A имеет 3 уровня, а фактор B - 4 уровня. Результаты наблюдений приведены в таблице:\n",
    "y = [[2.68, 3.29, 2.88, 4.45],\n",
    "[4.12, 4.96, 5.09, 5.22],\n",
    "[5.52, 4.50, 5.42, 5.29]]\n",
    "С помощью двухфакторного дисперсионного анализа проверьте влияние каждого из факторов на переменную y."
   ]
  },
  {
   "cell_type": "code",
   "execution_count": 96,
   "metadata": {},
   "outputs": [],
   "source": [
    "y = [[2.68, 3.29, 2.88, 4.45], \n",
    "     [4.12, 4.96, 5.09, 5.22], \n",
    "     [5.52, 4.50, 5.42, 5.29]]\n",
    "m = 3\n",
    "k = 4\n",
    "n = m*k"
   ]
  },
  {
   "cell_type": "code",
   "execution_count": 10,
   "metadata": {},
   "outputs": [
    {
     "data": {
      "text/plain": [
       "7.8407166666666654"
      ]
     },
     "execution_count": 10,
     "metadata": {},
     "output_type": "execute_result"
    }
   ],
   "source": [
    "A1_mean = np.mean(y[0])\n",
    "A2_mean = np.mean(y[1])\n",
    "A3_mean = np.mean(y[2])\n",
    "A_mean = [A1_mean, A2_mean, A3_mean]\n",
    "A = 0\n",
    "for n in A_mean:\n",
    "    A += (n-np.mean(y))**2\n",
    "SA12 = len(y[0])*A\n",
    "SA12"
   ]
  },
  {
   "cell_type": "code",
   "execution_count": 20,
   "metadata": {},
   "outputs": [
    {
     "data": {
      "text/plain": [
       "5.880537499999999"
      ]
     },
     "execution_count": 20,
     "metadata": {},
     "output_type": "execute_result"
    }
   ],
   "source": [
    "B1 = [y[0][0],y[1][0],y[2][0]]\n",
    "B2 = [y[0][1],y[1][1],y[2][1]]\n",
    "B3 = [y[0][2],y[1][2],y[2][2]]\n",
    "B4 = [y[0][3],y[1][3],y[2][3]]\n",
    "B1_mean = np.mean(B1)\n",
    "B2_mean = np.mean(B2)\n",
    "B3_mean = np.mean(B3)\n",
    "B4_mean = np.mean(B4)\n",
    "B_mean = [B1_mean, B2_mean, B3_mean, B4_mean]\n",
    "B = 0\n",
    "for n in B_mean:\n",
    "    B += (n-np.mean(y))**2\n",
    "SB12 = len(B1)*A\n",
    "SB12"
   ]
  },
  {
   "cell_type": "code",
   "execution_count": 88,
   "metadata": {},
   "outputs": [],
   "source": [
    "def b_mean(n):\n",
    "    b = B_mean[n]\n",
    "    return b"
   ]
  },
  {
   "cell_type": "code",
   "execution_count": 89,
   "metadata": {},
   "outputs": [
    {
     "data": {
      "text/plain": [
       "1.9298833333333327"
      ]
     },
     "execution_count": 89,
     "metadata": {},
     "output_type": "execute_result"
    }
   ],
   "source": [
    "SW2 = 0\n",
    "n = 0\n",
    "for j in range(len(A_mean)):\n",
    "    g = y[j]\n",
    "    n = 0\n",
    "    for h in g:\n",
    "        a_mean = A_mean[j]\n",
    "        SW2 += (h - a_mean - b_mean(n) + np.mean(y))**2\n",
    "        n +=1         \n",
    "SW2"
   ]
  },
  {
   "cell_type": "code",
   "execution_count": 90,
   "metadata": {},
   "outputs": [
    {
     "data": {
      "text/plain": [
       "3.9203583333333327"
      ]
     },
     "execution_count": 90,
     "metadata": {},
     "output_type": "execute_result"
    }
   ],
   "source": [
    "sigmaA2 = SA12/(3-1)\n",
    "sigmaA2"
   ]
  },
  {
   "cell_type": "code",
   "execution_count": 91,
   "metadata": {},
   "outputs": [
    {
     "data": {
      "text/plain": [
       "1.9601791666666664"
      ]
     },
     "execution_count": 91,
     "metadata": {},
     "output_type": "execute_result"
    }
   ],
   "source": [
    "sigmaB2 = SB12/(4-1)\n",
    "sigmaB2"
   ]
  },
  {
   "cell_type": "code",
   "execution_count": 92,
   "metadata": {},
   "outputs": [
    {
     "data": {
      "text/plain": [
       "0.32164722222222214"
      ]
     },
     "execution_count": 92,
     "metadata": {},
     "output_type": "execute_result"
    }
   ],
   "source": [
    "sigmaW2 = SW2/((3-1)*(4-1))\n",
    "sigmaW2"
   ]
  },
  {
   "cell_type": "code",
   "execution_count": 93,
   "metadata": {},
   "outputs": [
    {
     "data": {
      "text/plain": [
       "12.188379262995173"
      ]
     },
     "execution_count": 93,
     "metadata": {},
     "output_type": "execute_result"
    }
   ],
   "source": [
    "FA = sigmaA2/sigmaW2\n",
    "FA"
   ]
  },
  {
   "cell_type": "code",
   "execution_count": 100,
   "metadata": {},
   "outputs": [
    {
     "data": {
      "text/plain": [
       "4.25649472909375"
      ]
     },
     "execution_count": 100,
     "metadata": {},
     "output_type": "execute_result"
    }
   ],
   "source": [
    "alpha = 0.05\n",
    "kA1 = m - 1\n",
    "kA2 = n - m\n",
    "FA_crit = stats.f.ppf(1 - alpha, kA1, kA2)\n",
    "FA_crit"
   ]
  },
  {
   "cell_type": "code",
   "execution_count": 94,
   "metadata": {},
   "outputs": [
    {
     "data": {
      "text/plain": [
       "6.094189631497587"
      ]
     },
     "execution_count": 94,
     "metadata": {},
     "output_type": "execute_result"
    }
   ],
   "source": [
    "FB = sigmaB2/sigmaW2\n",
    "FB"
   ]
  },
  {
   "cell_type": "code",
   "execution_count": 99,
   "metadata": {},
   "outputs": [
    {
     "data": {
      "text/plain": [
       "4.25649472909375"
      ]
     },
     "execution_count": 99,
     "metadata": {},
     "output_type": "execute_result"
    }
   ],
   "source": [
    "alpha = 0.05\n",
    "kB1 = k - 1\n",
    "kB2 = n - k\n",
    "FB_crit = stats.f.ppf(1 - alpha, k1, k2)\n",
    "FB_crit"
   ]
  },
  {
   "cell_type": "markdown",
   "metadata": {},
   "source": [
    "ответ: факторы не влияют"
   ]
  },
  {
   "cell_type": "code",
   "execution_count": null,
   "metadata": {},
   "outputs": [],
   "source": []
  }
 ],
 "metadata": {
  "kernelspec": {
   "display_name": "Python 3",
   "language": "python",
   "name": "python3"
  },
  "language_info": {
   "codemirror_mode": {
    "name": "ipython",
    "version": 3
   },
   "file_extension": ".py",
   "mimetype": "text/x-python",
   "name": "python",
   "nbconvert_exporter": "python",
   "pygments_lexer": "ipython3",
   "version": "3.7.6"
  }
 },
 "nbformat": 4,
 "nbformat_minor": 4
}
